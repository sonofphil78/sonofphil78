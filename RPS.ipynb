{
 "cells": [
  {
   "cell_type": "markdown",
   "metadata": {},
   "source": [
    "# Rock, Paper, Scissors"
   ]
  },
  {
   "cell_type": "markdown",
   "metadata": {},
   "source": [
    "### Libraries and static values"
   ]
  },
  {
   "cell_type": "code",
   "execution_count": 3,
   "metadata": {},
   "outputs": [],
   "source": [
    "# Bring in libraries and functions\n",
    "import random\n",
    "from random import randint\n",
    "import termcolor\n",
    "from termcolor import colored\n",
    "\n",
    "# Define static terms\n",
    "throws = ['r','p','s']\n",
    "throw_words = {'r':'rock','p':'paper','s':'scissors'}\n",
    "def win():\n",
    "    print(colored('Player wins!','green',attrs=['bold']))\n",
    "def lose():\n",
    "    print(colored('Computer wins!','red',attrs=['bold']))\n",
    "def draw():\n",
    "    print(colored('DRAW!','grey',attrs=['bold']))"
   ]
  },
  {
   "cell_type": "markdown",
   "metadata": {},
   "source": [
    "### Game code"
   ]
  },
  {
   "cell_type": "code",
   "execution_count": null,
   "metadata": {
    "scrolled": true
   },
   "outputs": [],
   "source": [
    "# Game code loop\n",
    "while True:\n",
    "    # Computer's choice\n",
    "    chosen_num = randint(0,2)\n",
    "    computer_choice = throws[chosen_num]\n",
    "    \n",
    "    # Player's choice\n",
    "    player_choice = input('\\nrock (r), paper (p) or scissors (s)?').lower()\n",
    "    while player_choice not in throws:\n",
    "        print('\\nCome on man...')\n",
    "        player_choice = input('rock (r), paper (p) or scissors (s)?').lower()\n",
    "\n",
    "    # Print out throws\n",
    "    print('\\nOne, Two, Three!')\n",
    "    print(f'Player throws {throw_words[player_choice]}.')\n",
    "    print(f'Computer throws {throw_words[computer_choice]}.')\n",
    "    \n",
    "    # Determine winner and call defined print function\n",
    "    if player_choice == computer_choice:\n",
    "        draw()\n",
    "    elif player_choice == 'r' and computer_choice == 's':\n",
    "        win()\n",
    "    elif player_choice == 'p' and computer_choice == 'r':\n",
    "        win()\n",
    "    elif player_choice == 's' and computer_choice == 'p':\n",
    "        win()\n",
    "    else:\n",
    "        lose()\n",
    "\n",
    "    # Ask to continue and loop or exit\n",
    "    replay = input('\\nPlay again? (y,n)').lower()\n",
    "    while replay not in {'y','n'}:\n",
    "        print('\\nUgh... letter \"y\" or letter \"n\"... jeez...')\n",
    "        replay = input('\\nPlay again? (y,n)').lower()\n",
    "    if replay == 'n':\n",
    "        print('\\nThanks for playing!')\n",
    "        break\n",
    "    if replay == 'y':\n",
    "        continue"
   ]
  },
  {
   "cell_type": "code",
   "execution_count": null,
   "metadata": {},
   "outputs": [],
   "source": []
  }
 ],
 "metadata": {
  "kernelspec": {
   "display_name": "Python 3",
   "language": "python",
   "name": "python3"
  },
  "language_info": {
   "codemirror_mode": {
    "name": "ipython",
    "version": 3
   },
   "file_extension": ".py",
   "mimetype": "text/x-python",
   "name": "python",
   "nbconvert_exporter": "python",
   "pygments_lexer": "ipython3",
   "version": "3.7.4"
  }
 },
 "nbformat": 4,
 "nbformat_minor": 2
}
